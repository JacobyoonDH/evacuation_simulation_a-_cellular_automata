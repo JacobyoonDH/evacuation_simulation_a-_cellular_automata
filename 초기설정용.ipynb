{
 "cells": [
  {
   "cell_type": "code",
   "execution_count": 9,
   "id": "eb127ac6-43cb-41e9-9f40-aea60c3a43d7",
   "metadata": {
    "editable": true,
    "slideshow": {
     "slide_type": ""
    },
    "tags": []
   },
   "outputs": [],
   "source": [
    "import numpy as np\n",
    "import geopandas as gpd\n",
    "import matplotlib.pyplot as plt\n",
    "import os\n",
    "import matplotlib.patches as mpatches\n",
    "from grid_utils import *\n",
    "from pedestrian_utils import *\n",
    "from pedestrian import *\n",
    "from simulation import *\n",
    "from results_utils import *\n",
    "from visualization import *"
   ]
  },
  {
   "cell_type": "code",
   "execution_count": 2,
   "id": "a61d5b7f-0b4a-4ddc-aa26-094590f7f86f",
   "metadata": {},
   "outputs": [],
   "source": [
    "output_dir = r\"C:\\Users\\doohu\\Desktop\\대학원\\대피 시뮬레이션_최종코드\\데이터\""
   ]
  },
  {
   "cell_type": "code",
   "execution_count": 18,
   "id": "bc411260-d27b-43d8-aad8-4024c259a1cd",
   "metadata": {},
   "outputs": [
    {
     "name": "stdout",
     "output_type": "stream",
     "text": [
      "Reprojection complete. All data is now in EPSG:5181.\n"
     ]
    }
   ],
   "source": [
    "plt.rcParams['font.family'] = 'Malgun Gothic'\n",
    "\n",
    "# 데이터 경로 설정\n",
    "area_shp_path = r\"C:\\Users\\doohu\\Desktop\\대학원\\대피 시뮬레이션_최종코드\\데이터\\신규대상지_도보이동가능지역.shp\"\n",
    "buildings_shp_path = r\"C:\\Users\\doohu\\Desktop\\대학원\\대피 시뮬레이션_최종코드\\데이터\\대상지_건물.shp\"\n",
    "special_area_shp_path = r\"C:\\Users\\doohu\\Desktop\\대학원\\대피 시뮬레이션_최종코드\\데이터\\시장영역.shp\"\n",
    "evacuation_target_area_shp_path = r\"C:\\Users\\doohu\\Desktop\\대학원\\대피 시뮬레이션_최종코드\\데이터\\대피소_shp.shp\"\n",
    "creation_area_path = r\"C:\\Users\\doohu\\Desktop\\대학원\\대피 시뮬레이션_최종코드\\데이터\\agent생성용.shp\"\n",
    "grid_path = r\"C:\\Users\\doohu\\Desktop\\대학원\\대피 시뮬레이션_최종코드\\데이터\"\n",
    "flood_path=flood_cells_file_path = r\"C:\\Users\\doohu\\Desktop\\대학원\\대피 시뮬레이션_최종코드\\데이터\\flood_cells_grid.pkl\"\n",
    "# GeoDataFrame 불러오기 및 좌표계 변환\n",
    "target_crs = \"EPSG:5181\"\n",
    "area_gdf = gpd.read_file(area_shp_path).to_crs(target_crs)\n",
    "buildings_gdf = gpd.read_file(buildings_shp_path).to_crs(target_crs)\n",
    "special_area_gdf = gpd.read_file(special_area_shp_path).to_crs(target_crs)\n",
    "evacuation_target_area_gdf = gpd.read_file(evacuation_target_area_shp_path).to_crs(target_crs)\n",
    "creation_area_gdf = gpd.read_file(creation_area_path).to_crs(\"EPSG:5181\")\n",
    "print(\"Reprojection complete. All data is now in EPSG:5181.\")"
   ]
  },
  {
   "cell_type": "code",
   "execution_count": 19,
   "id": "53824887-43a0-4241-aa73-4cd06357f194",
   "metadata": {},
   "outputs": [],
   "source": [
    "import numpy as np\n",
    "import geopandas as gpd\n",
    "from pedestrian_utils import generate_pedestrians\n",
    "grid = np.load(os.path.join(grid_path, \"grid.npy\"))\n",
    "x_coords = np.loadtxt(os.path.join(output_dir, \"x_coords.csv\"), delimiter=\",\")\n",
    "y_coords = np.loadtxt(os.path.join(output_dir, \"y_coords.csv\"), delimiter=\",\")"
   ]
  },
  {
   "cell_type": "code",
   "execution_count": 20,
   "id": "b07140ec-ad7e-45a8-8561-3c3e7e1ca7c4",
   "metadata": {},
   "outputs": [],
   "source": [
    "creation_area_cells= get_available_cells(grid, x_coords, y_coords, creation_area_gdf)\n",
    "special_area_cells= get_available_cells(grid, x_coords, y_coords, special_area_gdf)\n",
    "evacuation_target_area_cells= get_available_cells(grid, x_coords, y_coords, evacuation_target_area_gdf)\n",
    "# special_area_cells와 general_area_cells를 리스트로 변환\n",
    "special_area_cells=list(special_area_cells)\n",
    "general_area_cells = list(creation_area_cells)\n",
    "evacuation_target_area_cells= list(evacuation_target_area_cells)"
   ]
  },
  {
   "cell_type": "code",
   "execution_count": null,
   "id": "ebd009dc-21b8-44af-be80-c496f91c0d51",
   "metadata": {},
   "outputs": [],
   "source": [
    "import pickle\n",
    "import os\n",
    "\n",
    "# 저장할 디렉터리 및 캐시 파일 경로 설정\n",
    "cache_dir = r\"C:\\Users\\doohu\\Desktop\\대학원\\대피 시뮬레이션_최종코드\\데이터\"\n",
    "cache_file = os.path.join(cache_dir, \"area_cells_cache.pkl\")\n",
    "\n",
    "# 데이터 생성 함수\n",
    "def generate_and_save_area_cells(grid, x_coords, y_coords, creation_area_gdf, special_area_gdf, evacuation_target_area_gdf):\n",
    "    # get_available_cells를 이용해 셀 생성\n",
    "    creation_area_cells = get_available_cells(grid, x_coords, y_coords, creation_area_gdf)\n",
    "    special_area_cells = get_available_cells(grid, x_coords, y_coords, special_area_gdf)\n",
    "    evacuation_target_area_cells = get_available_cells(grid, x_coords, y_coords, evacuation_target_area_gdf)\n",
    "    \n",
    "    # 리스트로 변환\n",
    "    creation_area_cells = list(creation_area_cells)\n",
    "    special_area_cells = list(special_area_cells)\n",
    "    evacuation_target_area_cells = list(evacuation_target_area_cells)\n",
    "\n",
    "    # 데이터 저장\n",
    "    with open(cache_file, \"wb\") as f:\n",
    "        pickle.dump({\n",
    "            \"creation_area_cells\": creation_area_cells,\n",
    "            \"special_area_cells\": special_area_cells,\n",
    "            \"evacuation_target_area_cells\": evacuation_target_area_cells\n",
    "        }, f)\n",
    "    \n",
    "    print(\"Data successfully generated and saved.\")\n",
    "\n",
    "# 데이터 불러오기 함수\n",
    "def load_area_cells():\n",
    "    if os.path.exists(cache_file):\n",
    "        with open(cache_file, \"rb\") as f:\n",
    "            cached_data = pickle.load(f)\n",
    "            \n",
    "            creation_area_cells = cached_data[\"creation_area_cells\"]\n",
    "            special_area_cells = cached_data[\"special_area_cells\"]\n",
    "            evacuation_target_area_cells = cached_data[\"evacuation_target_area_cells\"]\n",
    "            general_area_cells = creation_area_cells  # general_area_cells는 creation_area_cells와 동일\n",
    "            \n",
    "            print(\"Data successfully loaded.\")\n",
    "            \n",
    "            return creation_area_cells, special_area_cells, evacuation_target_area_cells, general_area_cells\n",
    "    else:\n",
    "        print(\"Cache file not found. Please generate and save the data first.\")\n",
    "        return None, None, None, None\n",
    "\n",
    "# 예제 코드 실행\n",
    "# grid, x_coords, y_coords, creation_area_gdf, special_area_gdf, evacuation_target_area_gdf가 정의되어 있어야 합니다.\n",
    "# 데이터 생성 및 저장\n",
    "generate_and_save_area_cells(grid, x_coords, y_coords, creation_area_gdf, special_area_gdf, evacuation_target_area_gdf)\n",
    "\n",
    "# 데이터 불러오기\n",
    "creation_area_cells, special_area_cells, evacuation_target_area_cells, general_area_cells = load_area_cells()\n",
    "\n",
    "# 확인용 출력\n",
    "print(\"Creation Area Cells:\", creation_area_cells)\n",
    "print(\"Special Area Cells:\", special_area_cells)\n",
    "print(\"Evacuation Target Area Cells:\", evacuation_target_area_cells)\n",
    "print(\"General Area Cells:\", general_area_cells)"
   ]
  },
  {
   "cell_type": "code",
   "execution_count": 7,
   "id": "25524487-1174-4513-ae45-c16151c8dcf4",
   "metadata": {},
   "outputs": [
    {
     "ename": "NameError",
     "evalue": "name 'ᄆᄂᄆᄂ' is not defined",
     "output_type": "error",
     "traceback": [
      "\u001b[1;31m---------------------------------------------------------------------------\u001b[0m",
      "\u001b[1;31mNameError\u001b[0m                                 Traceback (most recent call last)",
      "Cell \u001b[1;32mIn[7], line 1\u001b[0m\n\u001b[1;32m----> 1\u001b[0m ㅁㄴㅁㄴ\n",
      "\u001b[1;31mNameError\u001b[0m: name 'ᄆᄂᄆᄂ' is not defined"
     ]
    }
   ],
   "source": [
    "ㅁㄴㅁㄴ"
   ]
  },
  {
   "cell_type": "markdown",
   "id": "b4330c3d-59c4-4a67-aa82-eb4f4a4a0f1b",
   "metadata": {},
   "source": [
    "## 침수 노드 만들기"
   ]
  },
  {
   "cell_type": "code",
   "execution_count": 1,
   "id": "65654f2d-652f-4955-8af7-5cc0a3b8a8a6",
   "metadata": {},
   "outputs": [],
   "source": [
    "import numpy as np\n",
    "import geopandas as gpd\n",
    "import matplotlib.pyplot as plt\n",
    "import os\n",
    "import matplotlib.patches as mpatches"
   ]
  },
  {
   "cell_type": "code",
   "execution_count": 2,
   "id": "9975c160-90ba-4fe2-bdb3-294eff61280e",
   "metadata": {},
   "outputs": [
    {
     "name": "stdout",
     "output_type": "stream",
     "text": [
      "Reprojection complete. All data is now in EPSG:5181.\n"
     ]
    }
   ],
   "source": [
    "# 데이터 경로 설정\n",
    "area_shp_path = r\"C:\\Users\\doohu\\Desktop\\대학원\\대피 시뮬레이션_최종코드\\데이터\\신규대상지_도보이동가능지역.shp\"\n",
    "buildings_shp_path = r\"C:\\Users\\doohu\\Desktop\\대학원\\대피 시뮬레이션_최종코드\\데이터\\대상지_건물.shp\"\n",
    "special_area_shp_path = r\"C:\\Users\\doohu\\Desktop\\대학원\\대피 시뮬레이션_최종코드\\데이터\\시장영역.shp\"\n",
    "evacuation_target_area_shp_path = r\"C:\\Users\\doohu\\Desktop\\대학원\\대피 시뮬레이션_최종코드\\데이터\\대피소_shp.shp\"\n",
    "creation_area_path = r\"C:\\Users\\doohu\\Desktop\\대학원\\대피 시뮬레이션_최종코드\\데이터\\agent생성용.shp\"\n",
    "grid_path = r\"C:\\Users\\doohu\\Desktop\\대학원\\대피 시뮬레이션_최종코드\\데이터\"\n",
    "# GeoDataFrame 불러오기 및 좌표계 변환\n",
    "target_crs = \"EPSG:5181\"\n",
    "area_gdf = gpd.read_file(area_shp_path).to_crs(target_crs)\n",
    "buildings_gdf = gpd.read_file(buildings_shp_path).to_crs(target_crs)\n",
    "special_area_gdf = gpd.read_file(special_area_shp_path).to_crs(target_crs)\n",
    "evacuation_target_area_gdf = gpd.read_file(evacuation_target_area_shp_path).to_crs(target_crs)\n",
    "creation_area_gdf = gpd.read_file(creation_area_path).to_crs(target_crs)\n",
    "\n",
    "print(\"Reprojection complete. All data is now in EPSG:5181.\")"
   ]
  },
  {
   "cell_type": "code",
   "execution_count": 22,
   "id": "1216888d-ff97-4958-a7b8-3d7ffd09e6ad",
   "metadata": {},
   "outputs": [],
   "source": [
    "grid = np.load(os.path.join(grid_path, \"grid.npy\"))\n",
    "x_coords = np.loadtxt(os.path.join(grid_path, \"x_coords.csv\"), delimiter=\",\")\n",
    "y_coords = np.loadtxt(os.path.join(grid_path, \"y_coords.csv\"), delimiter=\",\")\n",
    "\n",
    "# flood_gdf 정의 필요\n",
    "flood_shp_path = r\"C:\\Users\\doohu\\Desktop\\대학원\\대피 시뮬레이션_최종코드\\데이터\\침수지역.shp\"\n",
    "flood_gdf = gpd.read_file(flood_shp_path).to_crs(\"EPSG:5181\")\n"
   ]
  },
  {
   "cell_type": "code",
   "execution_count": 23,
   "id": "f2f3bd8c-08bb-4fc9-8b27-dd029471a7cb",
   "metadata": {},
   "outputs": [
    {
     "name": "stdout",
     "output_type": "stream",
     "text": [
      "Flood cells grid saved to C:\\Users\\doohu\\Desktop\\대학원\\대피 시뮬레이션_최종코드\\데이터\\flood_cells_grid.pkl\n",
      "Flood cells grid loaded from C:\\Users\\doohu\\Desktop\\대학원\\대피 시뮬레이션_최종코드\\데이터\\flood_cells_grid.pkl\n",
      "Loaded Flood Cells Grid Shape: (524, 469)\n"
     ]
    }
   ],
   "source": [
    "import pickle\n",
    "import os\n",
    "import numpy as np\n",
    "from shapely.geometry import Point\n",
    "\n",
    "def generate_flood_cells_grid(flood_gdf, grid, x_coords, y_coords):\n",
    "    \"\"\"\n",
    "    침수 데이터를 grid 형식으로 변환합니다.\n",
    "\n",
    "    Parameters:\n",
    "        flood_gdf (GeoDataFrame): 침수 지역 GeoDataFrame (flood_data.shp에서 읽어옴)\n",
    "        grid (np.ndarray): 현재 시뮬레이션의 격자 배열\n",
    "        x_coords (np.ndarray): X 좌표 배열\n",
    "        y_coords (np.ndarray): Y 좌표 배열\n",
    "\n",
    "    Returns:\n",
    "        np.ndarray: grid와 동일한 크기의 침수 데이터 배열\n",
    "    \"\"\"\n",
    "    flood_cells_grid = np.zeros_like(grid, dtype=float)\n",
    "\n",
    "    for i, y in enumerate(y_coords):\n",
    "        for j, x in enumerate(x_coords):\n",
    "            # 셀의 중심 좌표\n",
    "            cell_point = Point(x, y)\n",
    "            \n",
    "            # 침수 데이터를 반복하며 확인\n",
    "            for _, row in flood_gdf.iterrows():\n",
    "                if row.geometry.contains(cell_point):\n",
    "                    # 침수 정도 (0.5, 1, 2) 값을 추가\n",
    "                    if row['SEG_CODE'] == \"N330\":\n",
    "                        flood_cells_grid[i, j] = 0.5\n",
    "                    elif row['SEG_CODE'] == \"N331\":\n",
    "                        flood_cells_grid[i, j] = 1.0\n",
    "                    elif row['SEG_CODE'] == \"N332\":\n",
    "                        flood_cells_grid[i, j] = 2.0\n",
    "                    break  # 첫 번째로 교차한 침수 데이터만 고려\n",
    "\n",
    "    return flood_cells_grid\n",
    "\n",
    "def save_flood_cells_grid(flood_cells_grid, file_path):\n",
    "    \"\"\"\n",
    "    Flood cells grid를 파일로 저장합니다.\n",
    "\n",
    "    Parameters:\n",
    "        flood_cells_grid (np.ndarray): 저장할 flood cells grid\n",
    "        file_path (str): 저장할 파일 경로\n",
    "    \"\"\"\n",
    "    with open(file_path, 'wb') as f:\n",
    "        pickle.dump(flood_cells_grid, f)\n",
    "    print(f\"Flood cells grid saved to {file_path}\")\n",
    "\n",
    "def load_flood_cells_grid(file_path):\n",
    "    \"\"\"\n",
    "    저장된 Flood cells grid를 로드합니다.\n",
    "\n",
    "    Parameters:\n",
    "        file_path (str): 로드할 파일 경로\n",
    "\n",
    "    Returns:\n",
    "        np.ndarray: 로드된 flood cells grid\n",
    "    \"\"\"\n",
    "    if not os.path.exists(file_path):\n",
    "        raise FileNotFoundError(f\"{file_path} does not exist.\")\n",
    "    with open(file_path, 'rb') as f:\n",
    "        flood_cells_grid = pickle.load(f)\n",
    "    print(f\"Flood cells grid loaded from {file_path}\")\n",
    "    return flood_cells_grid\n",
    "\n",
    "# 파일 경로 설정\n",
    "flood_cells_file_path = r\"C:\\Users\\doohu\\Desktop\\대학원\\대피 시뮬레이션_최종코드\\데이터\\flood_cells_grid.pkl\"\n",
    "\n",
    "# Flood cells grid 생성 및 저장\n",
    "flood_cells_grid = generate_flood_cells_grid(flood_gdf, grid, x_coords, y_coords)\n",
    "save_flood_cells_grid(flood_cells_grid, flood_cells_file_path)\n",
    "flood_cells_file_path = r\"C:\\Users\\doohu\\Desktop\\대학원\\대피 시뮬레이션_최종코드\\데이터\\flood_cells_grid.pkl\"\n",
    "\n",
    "# Flood cells grid 로드\n",
    "loaded_flood_cells_grid = load_flood_cells_grid(flood_cells_file_path)\n",
    "\n",
    "# 확인\n",
    "print(\"Loaded Flood Cells Grid Shape:\", loaded_flood_cells_grid.shape)"
   ]
  },
  {
   "cell_type": "code",
   "execution_count": null,
   "id": "c668eba4-bf36-4b16-91ab-107c650fd4c6",
   "metadata": {},
   "outputs": [],
   "source": []
  },
  {
   "cell_type": "code",
   "execution_count": null,
   "id": "2814b1a9-60fa-4297-b0c4-97434b876d77",
   "metadata": {},
   "outputs": [],
   "source": []
  },
  {
   "cell_type": "code",
   "execution_count": null,
   "id": "2ffc8887-0008-4a40-a97b-c21ad36595b7",
   "metadata": {},
   "outputs": [],
   "source": []
  },
  {
   "cell_type": "markdown",
   "id": "5f5c9b74-a34f-445f-a87d-44aecfb3450c",
   "metadata": {},
   "source": [
    "# 이동 가능 격자 만들기"
   ]
  },
  {
   "cell_type": "code",
   "execution_count": null,
   "id": "c25832d5-7e2b-470d-9463-2a221cb9bd5a",
   "metadata": {},
   "outputs": [],
   "source": [
    "import numpy as np\n",
    "\n",
    "def save_walkable_grid(walkable_grid, file_path):\n",
    "    \"\"\"\n",
    "    walkable_grid를 파일로 저장합니다.\n",
    "\n",
    "    Parameters:\n",
    "        walkable_grid (numpy.ndarray): 이동 가능한 셀이 0인 그리드\n",
    "        file_path (str): 저장할 파일 경로\n",
    "    \"\"\"\n",
    "    np.save(file_path, walkable_grid)\n",
    "    print(f\"walkable_grid가 '{file_path}'에 저장되었습니다.\")\n",
    "\n",
    "def load_walkable_grid(file_path):\n",
    "    \"\"\"\n",
    "    파일에서 walkable_grid를 불러옵니다.\n",
    "\n",
    "    Parameters:\n",
    "        file_path (str): 불러올 파일 경로\n",
    "\n",
    "    Returns:\n",
    "        numpy.ndarray: 불러온 walkable_grid\n",
    "    \"\"\"\n",
    "    walkable_grid = np.load(file_path)\n",
    "    print(f\"walkable_grid가 '{file_path}'에서 불러와졌습니다.\")\n",
    "    return walkable_grid\n",
    "\n",
    "# 예제 사용법\n",
    "if __name__ == \"__main__\":\n",
    "    # 예제 walkable_grid 생성 (테스트용)\n",
    "    walkable_grid = np.array([[0, 1, 0],\n",
    "                              [0, 0, 1],\n",
    "                              [1, 0, 0]])\n",
    "\n",
    "    # 파일 경로 설정\n",
    "    file_path = \"walkable_grid.npy\"\n",
    "\n",
    "    # walkable_grid 저장\n",
    "    save_walkable_grid(walkable_grid, file_path)\n",
    "\n",
    "    # walkable_grid 불러오기\n",
    "    loaded_walkable_grid = load_walkable_grid(file_path)\n",
    "\n",
    "    # 불러온 walkable_grid 확인\n",
    "    print(loaded_walkable_grid)\n"
   ]
  },
  {
   "cell_type": "code",
   "execution_count": null,
   "id": "53a3c0c5-bbb0-4c80-816f-642123c2fbbb",
   "metadata": {},
   "outputs": [],
   "source": []
  },
  {
   "cell_type": "code",
   "execution_count": null,
   "id": "c4badc14-4f23-4989-be82-d654a718a39f",
   "metadata": {},
   "outputs": [],
   "source": [
    "import numpy as np\n",
    "import geopandas as gpd\n",
    "import matplotlib.pyplot as plt\n",
    "import os\n",
    "import matplotlib.patches as mpatches\n",
    "from grid_utils import *\n",
    "from pedestrian_utils import *\n",
    "from pedestrian import *\n",
    "from simulation import *\n",
    "from results_utils import *\n",
    "from visualization import *"
   ]
  },
  {
   "cell_type": "code",
   "execution_count": 6,
   "id": "13c58286-ffa8-457e-a730-8a31c79bbb44",
   "metadata": {},
   "outputs": [
    {
     "name": "stdout",
     "output_type": "stream",
     "text": [
      "Reprojection complete. All data is now in EPSG:5181.\n"
     ]
    }
   ],
   "source": [
    "plt.rcParams['font.family'] = 'Malgun Gothic'\n",
    "\n",
    "# 데이터 경로 설정\n",
    "area_shp_path = r\"C:\\Users\\doohu\\Desktop\\대학원\\대피 시뮬레이션_최종코드\\데이터\\신규대상지_도보이동가능지역.shp\"\n",
    "buildings_shp_path = r\"C:\\Users\\doohu\\Desktop\\대학원\\대피 시뮬레이션_최종코드\\데이터\\대상지_건물.shp\"\n",
    "special_area_shp_path = r\"C:\\Users\\doohu\\Desktop\\대학원\\대피 시뮬레이션_최종코드\\데이터\\시장영역.shp\"\n",
    "evacuation_target_area_shp_path = r\"C:\\Users\\doohu\\Desktop\\대학원\\대피 시뮬레이션_최종코드\\데이터\\대피소_shp.shp\"\n",
    "creation_area_path = r\"C:\\Users\\doohu\\Desktop\\대학원\\대피 시뮬레이션_최종코드\\데이터\\agent생성용.shp\"\n",
    "flood_path=flood_cells_file_path = r\"C:\\Users\\doohu\\Desktop\\대학원\\대피 시뮬레이션_최종코드\\데이터\\flood_cells_grid.pkl\"\n",
    "# GeoDataFrame 불러오기 및 좌표계 변환\n",
    "target_crs = \"EPSG:5181\"\n",
    "area_gdf = gpd.read_file(area_shp_path).to_crs(target_crs)\n",
    "buildings_gdf = gpd.read_file(buildings_shp_path).to_crs(target_crs)\n",
    "special_area_gdf = gpd.read_file(special_area_shp_path).to_crs(target_crs)\n",
    "evacuation_target_area_gdf = gpd.read_file(evacuation_target_area_shp_path).to_crs(target_crs)\n",
    "creation_area_gdf = gpd.read_file(creation_area_path).to_crs(\"EPSG:5181\")\n",
    "print(\"Reprojection complete. All data is now in EPSG:5181.\")"
   ]
  },
  {
   "cell_type": "code",
   "execution_count": 12,
   "id": "30b996fe-98b8-4ad5-b57a-f48856da55dd",
   "metadata": {},
   "outputs": [],
   "source": [
    "import numpy as np\n",
    "from shapely.geometry import Point, box\n",
    "from scipy.ndimage import label\n",
    "from shapely.geometry import Point, box\n",
    "\n",
    "def get_evacuation_target_cells(grid, x_coords, y_coords, evacuation_target_area_gdf, resolution=1):\n",
    "    \"\"\"\n",
    "    격자에서 대피 목표 영역과 교차하는 셀을 추출합니다.\n",
    "\n",
    "    Parameters:\n",
    "        grid (np.array): 2D 격자 (0 = 이동 가능, 1 = 장애물)\n",
    "        x_coords (np.array): X 좌표 배열\n",
    "        y_coords (np.array): Y 좌표 배열\n",
    "        evacuation_target_area_gdf (GeoDataFrame): 대피 목표 영역 GeoDataFrame\n",
    "        resolution (int): 격자 해상도 (기본값 3)\n",
    "\n",
    "    Returns:\n",
    "        list: 대피 목표 셀의 (i, j) 인덱스 리스트\n",
    "    \"\"\"\n",
    "    evacuation_target_cells = []\n",
    "\n",
    "    for i, y in enumerate(y_coords):\n",
    "        for j, x in enumerate(x_coords):\n",
    "            # 셀의 경계를 생성\n",
    "            cell = box(x, y, x + resolution, y + resolution)\n",
    "            # 격자가 이동 가능한 셀인지 확인하고 대피 영역과 교차하는지 확인\n",
    "            if grid[i, j] == 0 and evacuation_target_area_gdf.intersects(cell).any():\n",
    "                evacuation_target_cells.append((i, j))\n",
    "\n",
    "    return evacuation_target_cells\n",
    "\n",
    "\n",
    "def remove_disconnected_cells(grid):\n",
    "    \"\"\"\n",
    "    격자에서 가장 큰 연결된 컴포넌트만 유지하고 나머지 이동 가능한 셀을 이동 불가능(1)으로 변경합니다.\n",
    "\n",
    "    Parameters:\n",
    "        grid (numpy.ndarray): 이동 가능(0), 이동 불가능(1)으로 이루어진 격자.\n",
    "\n",
    "    Returns:\n",
    "        numpy.ndarray: 동떨어진 이동 불가능 셀이 제거된 격자.\n",
    "    \"\"\"\n",
    "    # 연결된 컴포넌트 레이블링\n",
    "    labeled_grid, num_features = label(grid == 0)\n",
    "\n",
    "    # 각 컴포넌트의 크기 계산\n",
    "    component_sizes = np.bincount(labeled_grid.ravel())\n",
    "\n",
    "    # 가장 큰 컴포넌트의 레이블 (0은 배경이므로 제외)\n",
    "    largest_component_label = component_sizes[1:].argmax() + 1\n",
    "\n",
    "    # 가장 큰 컴포넌트만 이동 가능하게 유지 (나머지는 이동 불가능으로 변경)\n",
    "    cleaned_grid = np.where(labeled_grid == largest_component_label, 0, 1)\n",
    "\n",
    "    return cleaned_grid\n",
    "\n",
    "\n",
    "\n",
    "def create_grid(area_gdf, buildings_gdf, resolution=1):\n",
    "    \"\"\"\n",
    "    격자를 생성하고 이동 불가능한 영역을 표시합니다.\n",
    "\n",
    "    Parameters:\n",
    "        area_gdf (GeoDataFrame): 이동 가능한 전체 영역\n",
    "        buildings_gdf (GeoDataFrame): 건물 영역\n",
    "        resolution (int): 격자 셀의 크기 (기본값: 3미터)\n",
    "\n",
    "    Returns:\n",
    "        tuple: 격자 (numpy.ndarray), X 좌표 (numpy.ndarray), Y 좌표 (numpy.ndarray)\n",
    "    \"\"\"\n",
    "    # 전체 대상지의 경계(bounds)에서 격자의 X, Y 좌표 생성\n",
    "    minx, miny, maxx, maxy = area_gdf.total_bounds\n",
    "    x_coords = np.arange(minx, maxx, resolution)\n",
    "    y_coords = np.arange(miny, maxy, resolution)\n",
    "\n",
    "    # 격자 초기화 (0 = 이동 가능, 1 = 장애물)\n",
    "    grid = np.zeros((len(y_coords), len(x_coords)))\n",
    "\n",
    "    # 각 셀에 대해 건물 또는 영역 밖 여부 확인\n",
    "    for i, y in enumerate(y_coords):\n",
    "        for j, x in enumerate(x_coords):\n",
    "            cell = box(x, y, x + resolution, y + resolution)\n",
    "            if buildings_gdf.intersects(cell).any() or not area_gdf.contains(cell.centroid).any():\n",
    "                grid[i, j] = 1\n",
    "\n",
    "    # 연결되지 않은 이동 가능한 셀 제거\n",
    "    cleaned_grid = remove_disconnected_cells(grid)\n",
    "\n",
    "    return cleaned_grid, x_coords, y_coords"
   ]
  },
  {
   "cell_type": "code",
   "execution_count": 16,
   "id": "67135638-f734-46c2-8370-90c9a1a8d4c9",
   "metadata": {},
   "outputs": [],
   "source": [
    "cleaned_grid, x_coords, y_coords= cleaned_grid, x_coords, y_coords= create_grid(area_gdf, buildings_gdf, resolution=1)"
   ]
  },
  {
   "cell_type": "code",
   "execution_count": 15,
   "id": "30d09f02-88fe-4d08-9c3c-4e2a6b3c2455",
   "metadata": {},
   "outputs": [
    {
     "name": "stdout",
     "output_type": "stream",
     "text": [
      "Data successfully saved to C:\\Users\\doohu\\Desktop\\대학원\\대피 시뮬레이션_최종코드\\데이터\\grid_data.pkl\n"
     ]
    }
   ],
   "source": [
    "output_dir = r\"C:\\Users\\doohu\\Desktop\\대학원\\대피 시뮬레이션_최종코드\\데이터\"\n",
    "output_file = os.path.join(output_dir, \"grid_data.pkl\")\n",
    "\n",
    "# 저장 함수 정의\n",
    "def save_grid_data(cleaned_grid, x_coords, y_coords, output_file):\n",
    "    data_to_save = {\n",
    "        \"cleaned_grid\": cleaned_grid,\n",
    "        \"x_coords\": x_coords,\n",
    "        \"y_coords\": y_coords\n",
    "    }\n",
    "    \n",
    "    with open(output_file, \"wb\") as f:\n",
    "        pickle.dump(data_to_save, f)\n",
    "        print(f\"Data successfully saved to {output_file}\")\n",
    "\n",
    "# 함수 실행\n",
    "save_grid_data(cleaned_grid, x_coords, y_coords, output_file)"
   ]
  },
  {
   "cell_type": "code",
   "execution_count": null,
   "id": "a6b0b520-1ac3-4ec2-a368-131fe7857af7",
   "metadata": {},
   "outputs": [],
   "source": []
  },
  {
   "cell_type": "code",
   "execution_count": null,
   "id": "0c400641-e36e-4604-94c0-ddf43af5b7a3",
   "metadata": {},
   "outputs": [],
   "source": [
    "get_evacuation_target_cells(grid, x_coords, y_coords, evacuation_target_area_gdf, resolution=1):"
   ]
  },
  {
   "cell_type": "code",
   "execution_count": 17,
   "id": "fed2f7ed-a875-438e-8745-4a5dbea5008a",
   "metadata": {},
   "outputs": [
    {
     "name": "stdout",
     "output_type": "stream",
     "text": [
      "Grid data successfully saved to:\n",
      "  - C:\\Users\\doohu\\Desktop\\대학원\\대피 시뮬레이션_최종코드\\데이터\\grid.npy\n",
      "  - C:\\Users\\doohu\\Desktop\\대학원\\대피 시뮬레이션_최종코드\\데이터\\x_coords.csv\n",
      "  - C:\\Users\\doohu\\Desktop\\대학원\\대피 시뮬레이션_최종코드\\데이터\\y_coords.csv\n"
     ]
    }
   ],
   "source": [
    "import numpy as np\n",
    "import os\n",
    "\n",
    "# 저장 경로 설정\n",
    "output_dir = r\"C:\\Users\\doohu\\Desktop\\대학원\\대피 시뮬레이션_최종코드\\데이터\"\n",
    "\n",
    "# 저장 함수 정의\n",
    "def save_grid_data_as_files(cleaned_grid, x_coords, y_coords, output_dir):\n",
    "    # 파일 경로 설정\n",
    "    grid_file = os.path.join(output_dir, \"grid.npy\")\n",
    "    x_coords_file = os.path.join(output_dir, \"x_coords.csv\")\n",
    "    y_coords_file = os.path.join(output_dir, \"y_coords.csv\")\n",
    "    \n",
    "    # 데이터 저장\n",
    "    np.save(grid_file, cleaned_grid)\n",
    "    np.savetxt(x_coords_file, x_coords, delimiter=\",\")\n",
    "    np.savetxt(y_coords_file, y_coords, delimiter=\",\")\n",
    "    \n",
    "    print(f\"Grid data successfully saved to:\")\n",
    "    print(f\"  - {grid_file}\")\n",
    "    print(f\"  - {x_coords_file}\")\n",
    "    print(f\"  - {y_coords_file}\")\n",
    "\n",
    "# 함수 실행\n",
    "save_grid_data_as_files(cleaned_grid, x_coords, y_coords, output_dir)\n"
   ]
  },
  {
   "cell_type": "code",
   "execution_count": null,
   "id": "5fb731fb-bd24-49f6-8315-1cd95b0d3c82",
   "metadata": {},
   "outputs": [],
   "source": []
  }
 ],
 "metadata": {
  "kernelspec": {
   "display_name": "Python 3 (ipykernel)",
   "language": "python",
   "name": "python3"
  },
  "language_info": {
   "codemirror_mode": {
    "name": "ipython",
    "version": 3
   },
   "file_extension": ".py",
   "mimetype": "text/x-python",
   "name": "python",
   "nbconvert_exporter": "python",
   "pygments_lexer": "ipython3",
   "version": "3.12.7"
  }
 },
 "nbformat": 4,
 "nbformat_minor": 5
}
