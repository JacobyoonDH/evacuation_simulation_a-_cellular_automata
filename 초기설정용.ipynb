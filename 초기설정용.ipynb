{
 "cells": [
  {
   "cell_type": "code",
   "execution_count": 1,
   "id": "eb127ac6-43cb-41e9-9f40-aea60c3a43d7",
   "metadata": {
    "editable": true,
    "slideshow": {
     "slide_type": ""
    },
    "tags": []
   },
   "outputs": [],
   "source": [
    "import numpy as np\n",
    "import geopandas as gpd\n",
    "import matplotlib.pyplot as plt\n",
    "import os\n",
    "import matplotlib.patches as mpatches\n",
    "from grid_utils import *\n",
    "from pedestrian_utils import *\n",
    "from pedestrian import *\n",
    "from simulation import *\n",
    "from results_utils import *\n",
    "from visualization import *"
   ]
  },
  {
   "cell_type": "code",
   "execution_count": 2,
   "id": "a61d5b7f-0b4a-4ddc-aa26-094590f7f86f",
   "metadata": {},
   "outputs": [],
   "source": [
    "output_dir = r\"C:\\Users\\doohu\\Desktop\\대학원\\디트\\1209_디트시뮬레이션_격자\""
   ]
  },
  {
   "cell_type": "code",
   "execution_count": 3,
   "id": "bc411260-d27b-43d8-aad8-4024c259a1cd",
   "metadata": {},
   "outputs": [
    {
     "name": "stdout",
     "output_type": "stream",
     "text": [
      "Reprojection complete. All data is now in EPSG:5181.\n"
     ]
    }
   ],
   "source": [
    "plt.rcParams['font.family'] = 'Malgun Gothic'\n",
    "\n",
    "# 데이터 경로 설정\n",
    "area_shp_path = r\"C:\\Users\\doohu\\Desktop\\대학원\\디트\\1106_디트_최종대상지_4326\\신규대상지_도보이동가능지역.shp\"\n",
    "buildings_shp_path = r\"C:\\Users\\doohu\\Desktop\\대학원\\디트\\1106_디트_최종대상지_4326\\신규대상지_건물지역_대피소제외.shp\"\n",
    "special_area_shp_path = r\"C:\\Users\\doohu\\Desktop\\대학원\\디트\\디트파이썬코드\\시장영역.shp\"\n",
    "evacuation_target_area_shp_path = r\"C:\\Users\\doohu\\Desktop\\대학원\\디트\\1106_디트_최종대상지_4326\\대피대상지_shp_point아님.shp\"\n",
    "creation_area_path = r\"C:\\Users\\doohu\\Desktop\\대학원\\디트\\1106_디트_최종대상지_4326\\agent_초기위치형성용.shp\"\n",
    "\n",
    "# GeoDataFrame 불러오기 및 좌표계 변환\n",
    "target_crs = \"EPSG:5181\"\n",
    "area_gdf = gpd.read_file(area_shp_path).to_crs(target_crs)\n",
    "buildings_gdf = gpd.read_file(buildings_shp_path).to_crs(target_crs)\n",
    "special_area_gdf = gpd.read_file(special_area_shp_path).to_crs(target_crs)\n",
    "evacuation_target_area_gdf = gpd.read_file(evacuation_target_area_shp_path).to_crs(target_crs)\n",
    "creation_area_gdf = gpd.read_file(creation_area_path).to_crs(target_crs)\n",
    "\n",
    "print(\"Reprojection complete. All data is now in EPSG:5181.\")"
   ]
  },
  {
   "cell_type": "code",
   "execution_count": 4,
   "id": "53824887-43a0-4241-aa73-4cd06357f194",
   "metadata": {},
   "outputs": [],
   "source": [
    "import numpy as np\n",
    "import geopandas as gpd\n",
    "from pedestrian_utils import generate_pedestrians\n",
    "\n",
    "# 저장된 격자와 좌표 불러오기\n",
    "output_dir = r\"C:\\Users\\doohu\\Desktop\\대학원\\디트\\1209_디트시뮬레이션_격자\"\n",
    "\n",
    "grid = np.load(os.path.join(output_dir, \"grid.npy\"))\n",
    "x_coords = np.loadtxt(os.path.join(output_dir, \"x_coords.csv\"), delimiter=\",\")\n",
    "y_coords = np.loadtxt(os.path.join(output_dir, \"y_coords.csv\"), delimiter=\",\")\n",
    "\n",
    "# GeoDataFrame 불러오기 및 좌표계 변환\n",
    "special_area_shp_path = r\"C:\\Users\\doohu\\Desktop\\대학원\\디트\\디트파이썬코드\\시장영역.shp\"\n",
    "creation_area_path = r\"C:\\Users\\doohu\\Desktop\\대학원\\디트\\1106_디트_최종대상지_4326\\agent_초기위치형성용.shp\"\n",
    "\n",
    "special_area_gdf = gpd.read_file(special_area_shp_path).to_crs(\"EPSG:5181\")\n",
    "creation_area_gdf = gpd.read_file(creation_area_path).to_crs(\"EPSG:5181\")"
   ]
  },
  {
   "cell_type": "code",
   "execution_count": 5,
   "id": "b07140ec-ad7e-45a8-8561-3c3e7e1ca7c4",
   "metadata": {},
   "outputs": [],
   "source": [
    "creation_area_cells= get_available_cells(grid, x_coords, y_coords, creation_area_gdf)\n",
    "special_area_cells= get_available_cells(grid, x_coords, y_coords, special_area_gdf)\n",
    "evacuation_target_area_cells= get_available_cells(grid, x_coords, y_coords, evacuation_target_area_gdf)\n",
    "# special_area_cells와 general_area_cells를 리스트로 변환\n",
    "special_area_cells=list(special_area_cells)\n",
    "general_area_cells = list(creation_area_cells)\n",
    "evacuation_target_area_cells= list(evacuation_target_area_cells)"
   ]
  },
  {
   "cell_type": "code",
   "execution_count": null,
   "id": "44fdbc29-feaa-4e78-bb6c-743a474e8312",
   "metadata": {},
   "outputs": [],
   "source": [
    "import pickle\n",
    "import os\n",
    "\n",
    "# 저장할 디렉터리 및 캐시 파일 경로 설정\n",
    "cache_dir = r\"C:\\Users\\doohu\\Desktop\\대학원\\디트\\1106_디트_최종대상지_4326\"\n",
    "cache_file = os.path.join(cache_dir, \"area_cells_cache.pkl\")\n",
    "\n",
    "# 데이터 생성 함수\n",
    "def generate_and_save_area_cells(grid, x_coords, y_coords, creation_area_gdf, special_area_gdf, evacuation_target_area_gdf):\n",
    "    # get_available_cells를 이용해 셀 생성\n",
    "    creation_area_cells = get_available_cells(grid, x_coords, y_coords, creation_area_gdf)\n",
    "    special_area_cells = get_available_cells(grid, x_coords, y_coords, special_area_gdf)\n",
    "    evacuation_target_area_cells = get_available_cells(grid, x_coords, y_coords, evacuation_target_area_gdf)\n",
    "    \n",
    "    # 리스트로 변환\n",
    "    creation_area_cells = list(creation_area_cells)\n",
    "    special_area_cells = list(special_area_cells)\n",
    "    evacuation_target_area_cells = list(evacuation_target_area_cells)\n",
    "\n",
    "    # 데이터 저장\n",
    "    with open(cache_file, \"wb\") as f:\n",
    "        pickle.dump({\n",
    "            \"creation_area_cells\": creation_area_cells,\n",
    "            \"special_area_cells\": special_area_cells,\n",
    "            \"evacuation_target_area_cells\": evacuation_target_area_cells\n",
    "        }, f)\n",
    "    \n",
    "    print(\"Data successfully generated and saved.\")\n",
    "\n",
    "# 데이터 불러오기 함수\n",
    "def load_area_cells():\n",
    "    if os.path.exists(cache_file):\n",
    "        with open(cache_file, \"rb\") as f:\n",
    "            cached_data = pickle.load(f)\n",
    "            \n",
    "            creation_area_cells = cached_data[\"creation_area_cells\"]\n",
    "            special_area_cells = cached_data[\"special_area_cells\"]\n",
    "            evacuation_target_area_cells = cached_data[\"evacuation_target_area_cells\"]\n",
    "            general_area_cells = creation_area_cells  # general_area_cells는 creation_area_cells와 동일\n",
    "            \n",
    "            print(\"Data successfully loaded.\")\n",
    "            \n",
    "            return creation_area_cells, special_area_cells, evacuation_target_area_cells, general_area_cells\n",
    "    else:\n",
    "        print(\"Cache file not found. Please generate and save the data first.\")\n",
    "        return None, None, None, None\n",
    "\n",
    "# 예제 코드 실행\n",
    "# grid, x_coords, y_coords, creation_area_gdf, special_area_gdf, evacuation_target_area_gdf가 정의되어 있어야 합니다.\n",
    "# 데이터 생성 및 저장\n",
    "generate_and_save_area_cells(grid, x_coords, y_coords, creation_area_gdf, special_area_gdf, evacuation_target_area_gdf)\n",
    "\n",
    "# 데이터 불러오기\n",
    "creation_area_cells, special_area_cells, evacuation_target_area_cells, general_area_cells = load_area_cells()\n",
    "\n",
    "# 확인용 출력\n",
    "print(\"Creation Area Cells:\", creation_area_cells)\n",
    "print(\"Special Area Cells:\", special_area_cells)\n",
    "print(\"Evacuation Target Area Cells:\", evacuation_target_area_cells)\n",
    "print(\"General Area Cells:\", general_area_cells)"
   ]
  },
  {
   "cell_type": "code",
   "execution_count": null,
   "id": "fe1a16a9-1840-4b0c-8260-3894ea7b1798",
   "metadata": {},
   "outputs": [],
   "source": []
  },
  {
   "cell_type": "code",
   "execution_count": null,
   "id": "b9e18bca-6340-47a7-8c08-0d3b431790e1",
   "metadata": {},
   "outputs": [],
   "source": []
  },
  {
   "cell_type": "code",
   "execution_count": null,
   "id": "c668eba4-bf36-4b16-91ab-107c650fd4c6",
   "metadata": {},
   "outputs": [],
   "source": []
  },
  {
   "cell_type": "code",
   "execution_count": null,
   "id": "2814b1a9-60fa-4297-b0c4-97434b876d77",
   "metadata": {},
   "outputs": [],
   "source": []
  },
  {
   "cell_type": "code",
   "execution_count": 1,
   "id": "2ffc8887-0008-4a40-a97b-c21ad36595b7",
   "metadata": {},
   "outputs": [],
   "source": []
  },
  {
   "cell_type": "markdown",
   "id": "5f5c9b74-a34f-445f-a87d-44aecfb3450c",
   "metadata": {},
   "source": [
    "# 이동 가능 격자 만들기"
   ]
  },
  {
   "cell_type": "code",
   "execution_count": null,
   "id": "c25832d5-7e2b-470d-9463-2a221cb9bd5a",
   "metadata": {},
   "outputs": [],
   "source": [
    "import numpy as np\n",
    "\n",
    "def save_walkable_grid(walkable_grid, file_path):\n",
    "    \"\"\"\n",
    "    walkable_grid를 파일로 저장합니다.\n",
    "\n",
    "    Parameters:\n",
    "        walkable_grid (numpy.ndarray): 이동 가능한 셀이 0인 그리드\n",
    "        file_path (str): 저장할 파일 경로\n",
    "    \"\"\"\n",
    "    np.save(file_path, walkable_grid)\n",
    "    print(f\"walkable_grid가 '{file_path}'에 저장되었습니다.\")\n",
    "\n",
    "def load_walkable_grid(file_path):\n",
    "    \"\"\"\n",
    "    파일에서 walkable_grid를 불러옵니다.\n",
    "\n",
    "    Parameters:\n",
    "        file_path (str): 불러올 파일 경로\n",
    "\n",
    "    Returns:\n",
    "        numpy.ndarray: 불러온 walkable_grid\n",
    "    \"\"\"\n",
    "    walkable_grid = np.load(file_path)\n",
    "    print(f\"walkable_grid가 '{file_path}'에서 불러와졌습니다.\")\n",
    "    return walkable_grid\n",
    "\n",
    "# 예제 사용법\n",
    "if __name__ == \"__main__\":\n",
    "    # 예제 walkable_grid 생성 (테스트용)\n",
    "    walkable_grid = np.array([[0, 1, 0],\n",
    "                              [0, 0, 1],\n",
    "                              [1, 0, 0]])\n",
    "\n",
    "    # 파일 경로 설정\n",
    "    file_path = \"walkable_grid.npy\"\n",
    "\n",
    "    # walkable_grid 저장\n",
    "    save_walkable_grid(walkable_grid, file_path)\n",
    "\n",
    "    # walkable_grid 불러오기\n",
    "    loaded_walkable_grid = load_walkable_grid(file_path)\n",
    "\n",
    "    # 불러온 walkable_grid 확인\n",
    "    print(loaded_walkable_grid)\n"
   ]
  },
  {
   "cell_type": "code",
   "execution_count": null,
   "id": "13c58286-ffa8-457e-a730-8a31c79bbb44",
   "metadata": {},
   "outputs": [],
   "source": []
  },
  {
   "cell_type": "code",
   "execution_count": null,
   "id": "cbfa0a97-b8e6-4477-806a-05625bc9d72e",
   "metadata": {},
   "outputs": [],
   "source": []
  },
  {
   "cell_type": "code",
   "execution_count": null,
   "id": "28b33fae-8f5d-4292-9444-e9dc7fce567b",
   "metadata": {},
   "outputs": [],
   "source": []
  },
  {
   "cell_type": "code",
   "execution_count": null,
   "id": "fed2f7ed-a875-438e-8745-4a5dbea5008a",
   "metadata": {},
   "outputs": [],
   "source": []
  },
  {
   "cell_type": "code",
   "execution_count": null,
   "id": "5fb731fb-bd24-49f6-8315-1cd95b0d3c82",
   "metadata": {},
   "outputs": [],
   "source": []
  }
 ],
 "metadata": {
  "kernelspec": {
   "display_name": "Python 3 (ipykernel)",
   "language": "python",
   "name": "python3"
  },
  "language_info": {
   "codemirror_mode": {
    "name": "ipython",
    "version": 3
   },
   "file_extension": ".py",
   "mimetype": "text/x-python",
   "name": "python",
   "nbconvert_exporter": "python",
   "pygments_lexer": "ipython3",
   "version": "3.11.7"
  }
 },
 "nbformat": 4,
 "nbformat_minor": 5
}
